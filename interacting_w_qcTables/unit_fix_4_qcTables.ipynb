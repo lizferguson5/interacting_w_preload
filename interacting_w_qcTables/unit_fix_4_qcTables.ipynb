{
 "cells": [
  {
   "cell_type": "code",
   "execution_count": null,
   "metadata": {},
   "outputs": [],
   "source": [
    "#! /usr/local/bin/python\n",
    "# -*- coding: utf-8 -*-"
   ]
  },
  {
   "cell_type": "code",
   "execution_count": 32,
   "metadata": {},
   "outputs": [],
   "source": [
    "# prepare an export to a UTF-8 encoded file\n",
    "import codecs\n",
    "qc_file = '/Users/leila/Documents/OOI_GitHub_repo/repos/interacting_w_preload/interacting_w_qcTables/data_qc_global_range_values.csv'\n",
    "fileout =  codecs.open(qc_file, 'w','utf-8')"
   ]
  },
  {
   "cell_type": "code",
   "execution_count": 41,
   "metadata": {},
   "outputs": [
    {
     "data": {
      "text/html": [
       "<div>\n",
       "<style scoped>\n",
       "    .dataframe tbody tr th:only-of-type {\n",
       "        vertical-align: middle;\n",
       "    }\n",
       "\n",
       "    .dataframe tbody tr th {\n",
       "        vertical-align: top;\n",
       "    }\n",
       "\n",
       "    .dataframe thead th {\n",
       "        text-align: right;\n",
       "    }\n",
       "</style>\n",
       "<table border=\"1\" class=\"dataframe\">\n",
       "  <thead>\n",
       "    <tr style=\"text-align: right;\">\n",
       "      <th></th>\n",
       "      <th>ReferenceDesignator</th>\n",
       "      <th>ParameterID_R</th>\n",
       "      <th>ParameterID_T</th>\n",
       "      <th>GlobalRangeMin</th>\n",
       "      <th>GlobalRangeMax</th>\n",
       "      <th>_DataLevel</th>\n",
       "      <th>_Units</th>\n",
       "      <th>_Array ID</th>\n",
       "      <th>_Platform ID</th>\n",
       "      <th>_Instrument</th>\n",
       "    </tr>\n",
       "  </thead>\n",
       "  <tbody>\n",
       "    <tr>\n",
       "      <th>6645</th>\n",
       "      <td>RS03ASHS-MJ03B-07-TMPSFA301</td>\n",
       "      <td>temperature24</td>\n",
       "      <td>temperature24</td>\n",
       "      <td>0.0</td>\n",
       "      <td>400.0</td>\n",
       "      <td></td>\n",
       "      <td>ºC</td>\n",
       "      <td>RS03ASHS</td>\n",
       "      <td>MJ03B</td>\n",
       "      <td>TMPSFA301</td>\n",
       "    </tr>\n",
       "  </tbody>\n",
       "</table>\n",
       "</div>"
      ],
      "text/plain": [
       "              ReferenceDesignator  ParameterID_R  ParameterID_T  \\\n",
       "6645  RS03ASHS-MJ03B-07-TMPSFA301  temperature24  temperature24   \n",
       "\n",
       "     GlobalRangeMin GlobalRangeMax _DataLevel _Units _Array ID _Platform ID  \\\n",
       "6645            0.0          400.0                ºC  RS03ASHS        MJ03B   \n",
       "\n",
       "     _Instrument  \n",
       "6645   TMPSFA301  "
      ]
     },
     "execution_count": 41,
     "metadata": {},
     "output_type": "execute_result"
    }
   ],
   "source": [
    "# read qc-lookup table from Github\n",
    "import pandas as pd\n",
    "import csv\n",
    "github_url = 'https://raw.githubusercontent.com/ooi-integration/qc-lookup/master/data_qc_global_range_values.csv'\n",
    "data = pd.read_csv(\n",
    "                   github_url,\n",
    "                   keep_default_na=False,\n",
    "                   quoting=csv.QUOTE_ALL\n",
    "                  )\n",
    "data.keys()\n",
    "data[(data['ParameterID_R'] == 'temperature24')]"
   ]
  },
  {
   "cell_type": "code",
   "execution_count": 34,
   "metadata": {},
   "outputs": [
    {
     "data": {
      "text/plain": [
       "0                  mdeg_C\n",
       "1    millidegrees Celsius\n",
       "Name: _Unit, dtype: object"
      ]
     },
     "execution_count": 34,
     "metadata": {},
     "output_type": "execute_result"
    }
   ],
   "source": [
    "# make a file with a list in preload of the units to be changed \n",
    "# name a variable to contain the text to replace the units in the list\n",
    "unit_preferred = '0.001 ºC'\n",
    "unit_mdegC = '/Users/leila/Documents/OOI_GitHub_repo/repos/interacting_w_preload/unit_mdegC.csv'\n",
    "mdegC = pd.read_csv(unit_mdegC)\n",
    "mdegC['_Unit'][:]"
   ]
  },
  {
   "cell_type": "code",
   "execution_count": 35,
   "metadata": {},
   "outputs": [],
   "source": [
    "# replace all entries in one column that match the units in the list\n",
    "for i in range(len(mdegC['_Unit'])):\n",
    "    data['_Units'] = data['_Units'].replace(mdegC['_Unit'][i], unit_preferred)"
   ]
  },
  {
   "cell_type": "code",
   "execution_count": 36,
   "metadata": {},
   "outputs": [
    {
     "data": {
      "text/plain": [
       "0              deg_C\n",
       "1               degC\n",
       "2              deg_c\n",
       "3    degrees Celsius\n",
       "Name: _Unit, dtype: object"
      ]
     },
     "execution_count": 36,
     "metadata": {},
     "output_type": "execute_result"
    }
   ],
   "source": [
    "unit_preferred = 'ºC'\n",
    "unit_degC = '/Users/leila/Documents/OOI_GitHub_repo/repos/interacting_w_preload/unit_degC.csv'\n",
    "degC = pd.read_csv(unit_degC)\n",
    "degC['_Unit'][:]"
   ]
  },
  {
   "cell_type": "code",
   "execution_count": 37,
   "metadata": {},
   "outputs": [],
   "source": [
    "for i in range(len(degC['_Unit'])):\n",
    "    #preload_data = preload_data.replace(degC['_Unit'][i], unit_preferred,regex=True)\n",
    "    data['_Units'] = data['_Units'].replace(degC['_Unit'][i], unit_preferred)"
   ]
  },
  {
   "cell_type": "code",
   "execution_count": 38,
   "metadata": {},
   "outputs": [
    {
     "data": {
      "text/html": [
       "<div>\n",
       "<style scoped>\n",
       "    .dataframe tbody tr th:only-of-type {\n",
       "        vertical-align: middle;\n",
       "    }\n",
       "\n",
       "    .dataframe tbody tr th {\n",
       "        vertical-align: top;\n",
       "    }\n",
       "\n",
       "    .dataframe thead th {\n",
       "        text-align: right;\n",
       "    }\n",
       "</style>\n",
       "<table border=\"1\" class=\"dataframe\">\n",
       "  <thead>\n",
       "    <tr style=\"text-align: right;\">\n",
       "      <th></th>\n",
       "      <th>ReferenceDesignator</th>\n",
       "      <th>ParameterID_R</th>\n",
       "      <th>ParameterID_T</th>\n",
       "      <th>GlobalRangeMin</th>\n",
       "      <th>GlobalRangeMax</th>\n",
       "      <th>_DataLevel</th>\n",
       "      <th>_Units</th>\n",
       "      <th>_Array ID</th>\n",
       "      <th>_Platform ID</th>\n",
       "      <th>_Instrument</th>\n",
       "    </tr>\n",
       "  </thead>\n",
       "  <tbody>\n",
       "  </tbody>\n",
       "</table>\n",
       "</div>"
      ],
      "text/plain": [
       "Empty DataFrame\n",
       "Columns: [ReferenceDesignator, ParameterID_R, ParameterID_T, GlobalRangeMin, GlobalRangeMax, _DataLevel, _Units, _Array ID, _Platform ID, _Instrument]\n",
       "Index: []"
      ]
     },
     "execution_count": 38,
     "metadata": {},
     "output_type": "execute_result"
    }
   ],
   "source": [
    "# check result\n",
    "data[(data['_Units'] == 'deg_C')]"
   ]
  },
  {
   "cell_type": "code",
   "execution_count": 39,
   "metadata": {},
   "outputs": [],
   "source": [
    "# write to a csv file the output\n",
    "data.to_csv(qc_file, index=False)"
   ]
  },
  {
   "cell_type": "code",
   "execution_count": null,
   "metadata": {},
   "outputs": [],
   "source": []
  },
  {
   "cell_type": "code",
   "execution_count": null,
   "metadata": {},
   "outputs": [],
   "source": []
  }
 ],
 "metadata": {
  "kernelspec": {
   "display_name": "Python 2",
   "language": "python",
   "name": "python2"
  },
  "language_info": {
   "codemirror_mode": {
    "name": "ipython",
    "version": 2
   },
   "file_extension": ".py",
   "mimetype": "text/x-python",
   "name": "python",
   "nbconvert_exporter": "python",
   "pygments_lexer": "ipython2",
   "version": "2.7.14"
  }
 },
 "nbformat": 4,
 "nbformat_minor": 2
}
