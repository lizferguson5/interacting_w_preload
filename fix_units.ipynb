{
 "cells": [
  {
   "cell_type": "markdown",
   "metadata": {},
   "source": [
    "The purpose of this code is to make the units in preload uniform. Since the csv files are written in UTF-8 encoding, the only way to not introduce any nontraditional characters when submitting pull request is to work with the .csv files within the python environment.\n",
    "\n",
    "Here is an example that seem to work. I have started by the temperature parameters where the units required a special character. This required two steps:\n",
    "\n",
    "#### step1\n",
    "the generation of a file with a list of unique old temperature units. \n",
    "\n",
    "#### step2\n",
    "a few lines of code to replace the old unit with the preferred unit format."
   ]
  },
  {
   "cell_type": "code",
   "execution_count": 2,
   "metadata": {},
   "outputs": [],
   "source": [
    "#! /usr/local/bin/python\\n\n",
    "# -*- coding: utf-8 -*-"
   ]
  },
  {
   "cell_type": "code",
   "execution_count": 3,
   "metadata": {},
   "outputs": [],
   "source": [
    "# prepare an export to a UTF-8 encoded file\n",
    "import codecs\n",
    "target_file = codecs.open('/Users/leila/Documents/OOI_GitHub_repo/repos/interacting_w_preload/ParameterDefs.csv', 'w','utf-8')"
   ]
  },
  {
   "cell_type": "code",
   "execution_count": 5,
   "metadata": {},
   "outputs": [
    {
     "data": {
      "text/html": [
       "<div>\n",
       "<style scoped>\n",
       "    .dataframe tbody tr th:only-of-type {\n",
       "        vertical-align: middle;\n",
       "    }\n",
       "\n",
       "    .dataframe tbody tr th {\n",
       "        vertical-align: top;\n",
       "    }\n",
       "\n",
       "    .dataframe thead th {\n",
       "        text-align: right;\n",
       "    }\n",
       "</style>\n",
       "<table border=\"1\" class=\"dataframe\">\n",
       "  <thead>\n",
       "    <tr style=\"text-align: right;\">\n",
       "      <th></th>\n",
       "      <th>scenario</th>\n",
       "      <th>confluence</th>\n",
       "      <th>name</th>\n",
       "      <th>id</th>\n",
       "      <th>parametertype</th>\n",
       "      <th>dimensions</th>\n",
       "      <th>valueencoding</th>\n",
       "      <th>codeset</th>\n",
       "      <th>unitofmeasure</th>\n",
       "      <th>fillvalue</th>\n",
       "      <th>...</th>\n",
       "      <th>visible</th>\n",
       "      <th>parameterfunctionid</th>\n",
       "      <th>parameterfunctionmap</th>\n",
       "      <th>qcfunctions</th>\n",
       "      <th>standardname</th>\n",
       "      <th>dataproductidentifier</th>\n",
       "      <th>description</th>\n",
       "      <th>longname</th>\n",
       "      <th>dataproducttype</th>\n",
       "      <th>datalevel</th>\n",
       "    </tr>\n",
       "  </thead>\n",
       "  <tbody>\n",
       "    <tr>\n",
       "      <th>3562</th>\n",
       "      <td>ZPLSC</td>\n",
       "      <td>ZPLSC</td>\n",
       "      <td>zplsc_values_channel_4</td>\n",
       "      <td>PD8079</td>\n",
       "      <td>array&lt;quantity&gt;</td>\n",
       "      <td>[\"channel_4_bins\"]</td>\n",
       "      <td>float32</td>\n",
       "      <td></td>\n",
       "      <td>dB m-1</td>\n",
       "      <td>-9999999</td>\n",
       "      <td>...</td>\n",
       "      <td></td>\n",
       "      <td></td>\n",
       "      <td></td>\n",
       "      <td></td>\n",
       "      <td></td>\n",
       "      <td></td>\n",
       "      <td>Channel 4 Volume Backscattering Strength (Sv) ...</td>\n",
       "      <td></td>\n",
       "      <td></td>\n",
       "      <td></td>\n",
       "    </tr>\n",
       "  </tbody>\n",
       "</table>\n",
       "<p>1 rows × 22 columns</p>\n",
       "</div>"
      ],
      "text/plain": [
       "     scenario confluence                    name      id    parametertype  \\\n",
       "3562    ZPLSC      ZPLSC  zplsc_values_channel_4  PD8079  array<quantity>   \n",
       "\n",
       "              dimensions valueencoding codeset unitofmeasure fillvalue  \\\n",
       "3562  [\"channel_4_bins\"]       float32                dB m-1  -9999999   \n",
       "\n",
       "        ...    visible parameterfunctionid parameterfunctionmap qcfunctions  \\\n",
       "3562    ...                                                                   \n",
       "\n",
       "     standardname dataproductidentifier  \\\n",
       "3562                                      \n",
       "\n",
       "                                            description longname  \\\n",
       "3562  Channel 4 Volume Backscattering Strength (Sv) ...            \n",
       "\n",
       "     dataproducttype datalevel  \n",
       "3562                            \n",
       "\n",
       "[1 rows x 22 columns]"
      ]
     },
     "execution_count": 5,
     "metadata": {},
     "output_type": "execute_result"
    }
   ],
   "source": [
    "# read prealod from Github\n",
    "import pandas as pd\n",
    "import csv\n",
    "github_url = 'https://raw.githubusercontent.com/oceanobservatories/preload-database/master/csv/ParameterDefs.csv'\n",
    "preload_data = pd.read_csv(github_url,                               \n",
    "                           keep_default_na=False,\n",
    "                           quoting=csv.QUOTE_ALL)\n",
    "preload_data.keys()\n",
    "preload_data[(preload_data['displayname'] == 'Channel 4 Volume Backscattering (Sv)')]"
   ]
  },
  {
   "cell_type": "markdown",
   "metadata": {},
   "source": [
    "### Temperature unit type 1 - 0.001 ºC\n",
    "#### Step 1"
   ]
  },
  {
   "cell_type": "code",
   "execution_count": 11,
   "metadata": {},
   "outputs": [
    {
     "data": {
      "text/plain": [
       "0                  mdeg_C\n",
       "1    millidegrees Celsius\n",
       "Name: _Unit, dtype: object"
      ]
     },
     "execution_count": 11,
     "metadata": {},
     "output_type": "execute_result"
    }
   ],
   "source": [
    "# make a file with a list in preload of the units to be changed,\n",
    "# name a variable to contain the text to replace the units in the list,\n",
    "import pandas as pd\n",
    "unit_preferred = '0.001 ºC'\n",
    "unit_mdegC = '/Users/leila/Documents/OOI_GitHub_repo/repos/interacting_w_preload/unit_mdegC.csv'\n",
    "mdegC = pd.read_csv(unit_mdegC)\n",
    "mdegC['_Unit'][:]"
   ]
  },
  {
   "cell_type": "code",
   "execution_count": 12,
   "metadata": {},
   "outputs": [
    {
     "data": {
      "text/html": [
       "<div>\n",
       "<style scoped>\n",
       "    .dataframe tbody tr th:only-of-type {\n",
       "        vertical-align: middle;\n",
       "    }\n",
       "\n",
       "    .dataframe tbody tr th {\n",
       "        vertical-align: top;\n",
       "    }\n",
       "\n",
       "    .dataframe thead th {\n",
       "        text-align: right;\n",
       "    }\n",
       "</style>\n",
       "<table border=\"1\" class=\"dataframe\">\n",
       "  <thead>\n",
       "    <tr style=\"text-align: right;\">\n",
       "      <th></th>\n",
       "      <th>scenario</th>\n",
       "      <th>confluence</th>\n",
       "      <th>name</th>\n",
       "      <th>id</th>\n",
       "      <th>parametertype</th>\n",
       "      <th>dimensions</th>\n",
       "      <th>valueencoding</th>\n",
       "      <th>codeset</th>\n",
       "      <th>unitofmeasure</th>\n",
       "      <th>fillvalue</th>\n",
       "      <th>...</th>\n",
       "      <th>visible</th>\n",
       "      <th>parameterfunctionid</th>\n",
       "      <th>parameterfunctionmap</th>\n",
       "      <th>qcfunctions</th>\n",
       "      <th>standardname</th>\n",
       "      <th>dataproductidentifier</th>\n",
       "      <th>description</th>\n",
       "      <th>longname</th>\n",
       "      <th>dataproducttype</th>\n",
       "      <th>datalevel</th>\n",
       "    </tr>\n",
       "  </thead>\n",
       "  <tbody>\n",
       "    <tr>\n",
       "      <th>2068</th>\n",
       "      <td>HPIES</td>\n",
       "      <td>HPIES</td>\n",
       "      <td>hpies_temperature</td>\n",
       "      <td>PD2582</td>\n",
       "      <td>quantity</td>\n",
       "      <td></td>\n",
       "      <td>uint32</td>\n",
       "      <td></td>\n",
       "      <td>mdeg_C</td>\n",
       "      <td>0</td>\n",
       "      <td>...</td>\n",
       "      <td></td>\n",
       "      <td></td>\n",
       "      <td></td>\n",
       "      <td></td>\n",
       "      <td></td>\n",
       "      <td></td>\n",
       "      <td>Seawater temperature near the sensor. Units: m...</td>\n",
       "      <td>Seawater Temperature</td>\n",
       "      <td></td>\n",
       "      <td></td>\n",
       "    </tr>\n",
       "  </tbody>\n",
       "</table>\n",
       "<p>1 rows × 22 columns</p>\n",
       "</div>"
      ],
      "text/plain": [
       "     scenario confluence               name      id parametertype dimensions  \\\n",
       "2068    HPIES      HPIES  hpies_temperature  PD2582      quantity              \n",
       "\n",
       "     valueencoding codeset unitofmeasure fillvalue    ...    visible  \\\n",
       "2068        uint32                mdeg_C         0    ...              \n",
       "\n",
       "     parameterfunctionid parameterfunctionmap qcfunctions standardname  \\\n",
       "2068                                                                     \n",
       "\n",
       "     dataproductidentifier                                        description  \\\n",
       "2068                        Seawater temperature near the sensor. Units: m...   \n",
       "\n",
       "                  longname dataproducttype datalevel  \n",
       "2068  Seawater Temperature                            \n",
       "\n",
       "[1 rows x 22 columns]"
      ]
     },
     "execution_count": 12,
     "metadata": {},
     "output_type": "execute_result"
    }
   ],
   "source": [
    "# how to find all rows where the column value is\n",
    "preload_data[(preload_data['unitofmeasure'] == 'mdeg_C')]"
   ]
  },
  {
   "cell_type": "markdown",
   "metadata": {},
   "source": [
    "#### Step 2"
   ]
  },
  {
   "cell_type": "code",
   "execution_count": 13,
   "metadata": {},
   "outputs": [],
   "source": [
    "# replace all entries in one column that match the units in the list\\n\",\n",
    "for i in range(len(mdegC['_Unit'])):\n",
    "#preload_data = preload_data.replace(mdegC['_Unit'][i], unit_preferred, regex=True)\\n\",\n",
    "    preload_data['unitofmeasure'] = preload_data['unitofmeasure'].replace(mdegC['_Unit'][i], unit_preferred)"
   ]
  },
  {
   "cell_type": "code",
   "execution_count": 14,
   "metadata": {},
   "outputs": [
    {
     "data": {
      "text/html": [
       "<div>\n",
       "<style scoped>\n",
       "    .dataframe tbody tr th:only-of-type {\n",
       "        vertical-align: middle;\n",
       "    }\n",
       "\n",
       "    .dataframe tbody tr th {\n",
       "        vertical-align: top;\n",
       "    }\n",
       "\n",
       "    .dataframe thead th {\n",
       "        text-align: right;\n",
       "    }\n",
       "</style>\n",
       "<table border=\"1\" class=\"dataframe\">\n",
       "  <thead>\n",
       "    <tr style=\"text-align: right;\">\n",
       "      <th></th>\n",
       "      <th>scenario</th>\n",
       "      <th>confluence</th>\n",
       "      <th>name</th>\n",
       "      <th>id</th>\n",
       "      <th>parametertype</th>\n",
       "      <th>dimensions</th>\n",
       "      <th>valueencoding</th>\n",
       "      <th>codeset</th>\n",
       "      <th>unitofmeasure</th>\n",
       "      <th>fillvalue</th>\n",
       "      <th>...</th>\n",
       "      <th>visible</th>\n",
       "      <th>parameterfunctionid</th>\n",
       "      <th>parameterfunctionmap</th>\n",
       "      <th>qcfunctions</th>\n",
       "      <th>standardname</th>\n",
       "      <th>dataproductidentifier</th>\n",
       "      <th>description</th>\n",
       "      <th>longname</th>\n",
       "      <th>dataproducttype</th>\n",
       "      <th>datalevel</th>\n",
       "    </tr>\n",
       "  </thead>\n",
       "  <tbody>\n",
       "  </tbody>\n",
       "</table>\n",
       "<p>0 rows × 22 columns</p>\n",
       "</div>"
      ],
      "text/plain": [
       "Empty DataFrame\n",
       "Columns: [scenario, confluence, name, id, parametertype, dimensions, valueencoding, codeset, unitofmeasure, fillvalue, displayname, precision, visible, parameterfunctionid, parameterfunctionmap, qcfunctions, standardname, dataproductidentifier, description, longname, dataproducttype, datalevel]\n",
       "Index: []\n",
       "\n",
       "[0 rows x 22 columns]"
      ]
     },
     "execution_count": 14,
     "metadata": {},
     "output_type": "execute_result"
    }
   ],
   "source": [
    "# check result\n",
    "preload_data[(preload_data['unitofmeasure'] == 'mdeg_C')]"
   ]
  },
  {
   "cell_type": "markdown",
   "metadata": {},
   "source": [
    "### Temperature unit type 2 - ºC\n",
    "#### Step 1"
   ]
  },
  {
   "cell_type": "code",
   "execution_count": 15,
   "metadata": {},
   "outputs": [
    {
     "data": {
      "text/plain": [
       "0              deg_C\n",
       "1               degC\n",
       "2              deg_c\n",
       "3    degrees Celsius\n",
       "Name: _Unit, dtype: object"
      ]
     },
     "execution_count": 15,
     "metadata": {},
     "output_type": "execute_result"
    }
   ],
   "source": [
    "unit_preferred = 'ºC'\n",
    "unit_degC = '/Users/leila/Documents/OOI_GitHub_repo/repos/interacting_w_preload/unit_degC.csv'\n",
    "degC = pd.read_csv(unit_degC)\n",
    "degC['_Unit'][:]"
   ]
  },
  {
   "cell_type": "markdown",
   "metadata": {},
   "source": [
    "#### Step 2"
   ]
  },
  {
   "cell_type": "code",
   "execution_count": 17,
   "metadata": {},
   "outputs": [],
   "source": [
    "for i in range(len(degC['_Unit'])):\n",
    "    #preload_data = preload_data.replace(degC['_Unit'][i], unit_preferred,regex=True)\n",
    "    preload_data['unitofmeasure'] = preload_data['unitofmeasure'].replace(degC['_Unit'][i], unit_preferred)"
   ]
  },
  {
   "cell_type": "code",
   "execution_count": 19,
   "metadata": {},
   "outputs": [
    {
     "data": {
      "text/html": [
       "<div>\n",
       "<style scoped>\n",
       "    .dataframe tbody tr th:only-of-type {\n",
       "        vertical-align: middle;\n",
       "    }\n",
       "\n",
       "    .dataframe tbody tr th {\n",
       "        vertical-align: top;\n",
       "    }\n",
       "\n",
       "    .dataframe thead th {\n",
       "        text-align: right;\n",
       "    }\n",
       "</style>\n",
       "<table border=\"1\" class=\"dataframe\">\n",
       "  <thead>\n",
       "    <tr style=\"text-align: right;\">\n",
       "      <th></th>\n",
       "      <th>scenario</th>\n",
       "      <th>confluence</th>\n",
       "      <th>name</th>\n",
       "      <th>id</th>\n",
       "      <th>parametertype</th>\n",
       "      <th>dimensions</th>\n",
       "      <th>valueencoding</th>\n",
       "      <th>codeset</th>\n",
       "      <th>unitofmeasure</th>\n",
       "      <th>fillvalue</th>\n",
       "      <th>...</th>\n",
       "      <th>visible</th>\n",
       "      <th>parameterfunctionid</th>\n",
       "      <th>parameterfunctionmap</th>\n",
       "      <th>qcfunctions</th>\n",
       "      <th>standardname</th>\n",
       "      <th>dataproductidentifier</th>\n",
       "      <th>description</th>\n",
       "      <th>longname</th>\n",
       "      <th>dataproducttype</th>\n",
       "      <th>datalevel</th>\n",
       "    </tr>\n",
       "  </thead>\n",
       "  <tbody>\n",
       "  </tbody>\n",
       "</table>\n",
       "<p>0 rows × 22 columns</p>\n",
       "</div>"
      ],
      "text/plain": [
       "Empty DataFrame\n",
       "Columns: [scenario, confluence, name, id, parametertype, dimensions, valueencoding, codeset, unitofmeasure, fillvalue, displayname, precision, visible, parameterfunctionid, parameterfunctionmap, qcfunctions, standardname, dataproductidentifier, description, longname, dataproducttype, datalevel]\n",
       "Index: []\n",
       "\n",
       "[0 rows x 22 columns]"
      ]
     },
     "execution_count": 19,
     "metadata": {},
     "output_type": "execute_result"
    }
   ],
   "source": [
    "# check result\n",
    "preload_data[(preload_data['unitofmeasure'] == 'degC')]"
   ]
  },
  {
   "cell_type": "markdown",
   "metadata": {},
   "source": [
    "\"_save the new ParameterDefs.csv file_\n",
    "> The file is ready to be submitted as a pull request to preload"
   ]
  },
  {
   "cell_type": "code",
   "execution_count": null,
   "metadata": {},
   "outputs": [],
   "source": [
    "# write the output to a csv file \n",
    "preload_data.to_csv('/Users/leila/Documents/OOI_GitHub_repo/repos/interacting_w_preload/ParameterDefs.csv', index=False)"
   ]
  },
  {
   "cell_type": "code",
   "execution_count": 32,
   "metadata": {},
   "outputs": [
    {
     "ename": "SyntaxError",
     "evalue": "unexpected character after line continuation character (<ipython-input-32-4d3f86a8f35c>, line 2)",
     "output_type": "error",
     "traceback": [
      "\u001b[0;36m  File \u001b[0;32m\"<ipython-input-32-4d3f86a8f35c>\"\u001b[0;36m, line \u001b[0;32m2\u001b[0m\n\u001b[0;31m    print(u\\m\\\\u207B\\\\u00B9\\\\n)\u001b[0m\n\u001b[0m                               ^\u001b[0m\n\u001b[0;31mSyntaxError\u001b[0m\u001b[0;31m:\u001b[0m unexpected character after line continuation character\n"
     ]
    }
   ],
   "source": [
    "#example for next unit replacement,\n",
    "print(u\\m\\\\u207B\\\\u00B9\\\\n)"
   ]
  },
  {
   "cell_type": "code",
   "execution_count": null,
   "metadata": {},
   "outputs": [],
   "source": []
  }
 ],
 "metadata": {
  "kernelspec": {
   "display_name": "Python 2",
   "language": "python",
   "name": "python2"
  },
  "language_info": {
   "codemirror_mode": {
    "name": "ipython",
    "version": 2
   },
   "file_extension": ".py",
   "mimetype": "text/x-python",
   "name": "python",
   "nbconvert_exporter": "python",
   "pygments_lexer": "ipython2",
   "version": "2.7.14"
  }
 },
 "nbformat": 4,
 "nbformat_minor": 2
}
