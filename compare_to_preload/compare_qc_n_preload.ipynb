{
 "cells": [
  {
   "cell_type": "code",
   "execution_count": null,
   "metadata": {},
   "outputs": [],
   "source": [
    "#! /usr/local/bin/python\n",
    "# -*- coding: utf-8 -*-"
   ]
  },
  {
   "cell_type": "code",
   "execution_count": null,
   "metadata": {},
   "outputs": [],
   "source": [
    "# read prealod from Github\n",
    "import pandas as pd\n",
    "import csv\n",
    "github_url = 'https://raw.githubusercontent.com/oceanobservatories/preload-database/master/csv/ParameterDefs.csv'\n",
    "preload_data = pd.read_csv(\n",
    "                           github_url,\n",
    "                           keep_default_na=False,\n",
    "                           quoting=csv.QUOTE_ALL\n",
    "                          )\n",
    "preload_data.keys()\n",
    "# all parameters listed in preload\n",
    "pre_l = preload_data.name.values.tolist()"
   ]
  },
  {
   "cell_type": "code",
   "execution_count": 27,
   "metadata": {},
   "outputs": [],
   "source": [
    "# read qc-lookup table from Github\n",
    "import pandas as pd\n",
    "import csv\n",
    "github_url = 'https://raw.githubusercontent.com/ooi-integration/qc-lookup/master/data_qc_global_range_values.csv'\n",
    "qc_data = pd.read_csv(\n",
    "                   github_url,\n",
    "                   keep_default_na=False,\n",
    "                   quoting=csv.QUOTE_ALL\n",
    "                  )\n",
    "qc_data.keys()\n",
    "# all parameters listed in qc sheet\n",
    "p_r_gl = qc_data.ParameterID_R.values.tolist()\n",
    "p_t_gl = qc_data.ParameterID_T.values.tolist()\n",
    "p_gl = set(p_r_gl + p_t_gl)\n",
    "qc_T_data = qc_data.loc[(qc_data['_Units'] == 'ºC')]\n",
    "p_Tqc = set(qc_T_data.ParameterID_T.unique())"
   ]
  },
  {
   "cell_type": "code",
   "execution_count": 10,
   "metadata": {},
   "outputs": [],
   "source": [
    "# parameters listed in qc sheet that do not exist in preload\n",
    "set(p_gl) - set(pre_l)"
   ]
  },
  {
   "cell_type": "code",
   "execution_count": 19,
   "metadata": {},
   "outputs": [],
   "source": [
    "data_sheet = pd.read_csv('/Users/leila/Documents/OOI_GitHub_repo/repos/interacting_w_preload/compare_to_preload/Temperature_GR_reviewed.csv')\n",
    "temp_l = data_sheet.parameter_name.values.tolist()"
   ]
  },
  {
   "cell_type": "code",
   "execution_count": 20,
   "metadata": {},
   "outputs": [
    {
     "name": "stdout",
     "output_type": "stream",
     "text": [
      "['seawater_temperature', 'seawater_temperature', 'presf_tide_temperature', 'temperature', 'temperature', 'pco2w_thermistor_temperature', 'temp', 'ctdbp_seawater_temperature', 'zplsc_c_temperature', 'optode_temperature', 'ctd_temp', 'air_temperature', 'sea_surface_temperature', 'met_tempa2m', 'met_tempskn', 'fdchp_a_tmpatur', 'sci_bsipar_temp', 'sci_water_temp', 'ctdpf_ckl_seawater_temperature', 'external_temperature', 'sensor_temperature', 'ctdmo_seawater_temperature', 'ctdmo_seawater_temperature', 'dosta_analog_optode_temperature', 'hpies_temperature', 'hpies_temperature', 'hpies_bliley_temperature', 'hpies_bliley_temperature_L1', 'temperature01', 'temperature02', 'temperature03', 'temperature04', 'temperature05', 'temperature06', 'temperature07', 'temperature08', 'temperature09', 'temperature10', 'temperature11', 'temperature12', 'temperature13', 'temperature14', 'temperature15', 'temperature16', 'temperature17', 'temperature18', 'temperature19', 'temperature20', 'temperature21', 'temperature22', 'temperature23', 'temperature24', 'temperature1', 'temperature2', 'temperature3', 'thsph_temp_th', 'thsph_temp_tl', 'thsph_temp_tch', 'thsph_temp_tcl', 'resistivity_temp_degc', 'vent_fluid_temperaure']\n"
     ]
    }
   ],
   "source": [
    "print(temp_l)"
   ]
  },
  {
   "cell_type": "code",
   "execution_count": 21,
   "metadata": {},
   "outputs": [
    {
     "data": {
      "text/plain": [
       "{'heat_temp',\n",
       " 'humidity_temperature',\n",
       " 'iris_temp',\n",
       " 'lily_temp',\n",
       " 'pressure_temp',\n",
       " 'ref_temp_degc',\n",
       " 'temp_spectrometer',\n",
       " 'thsph_temp_int'}"
      ]
     },
     "execution_count": 21,
     "metadata": {},
     "output_type": "execute_result"
    }
   ],
   "source": [
    "p_Tqc - set(temp_l)"
   ]
  },
  {
   "cell_type": "code",
   "execution_count": 22,
   "metadata": {},
   "outputs": [
    {
     "data": {
      "text/plain": [
       "{'dosta_analog_optode_temperature',\n",
       " 'external_temperature',\n",
       " 'hpies_bliley_temperature',\n",
       " 'pco2w_thermistor_temperature',\n",
       " 'sensor_temperature'}"
      ]
     },
     "execution_count": 22,
     "metadata": {},
     "output_type": "execute_result"
    }
   ],
   "source": [
    "set(temp_l) - p_Tqc"
   ]
  },
  {
   "cell_type": "code",
   "execution_count": null,
   "metadata": {},
   "outputs": [],
   "source": []
  }
 ],
 "metadata": {
  "kernelspec": {
   "display_name": "Python 2",
   "language": "python",
   "name": "python2"
  },
  "language_info": {
   "codemirror_mode": {
    "name": "ipython",
    "version": 2
   },
   "file_extension": ".py",
   "mimetype": "text/x-python",
   "name": "python",
   "nbconvert_exporter": "python",
   "pygments_lexer": "ipython2",
   "version": "2.7.14"
  }
 },
 "nbformat": 4,
 "nbformat_minor": 2
}
