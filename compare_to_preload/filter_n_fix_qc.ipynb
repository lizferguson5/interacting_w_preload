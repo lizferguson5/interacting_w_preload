{
 "cells": [
  {
   "cell_type": "code",
   "execution_count": 25,
   "metadata": {},
   "outputs": [],
   "source": [
    "#! /usr/local/bin/python\n",
    "# -*- coding: utf-8 -*-"
   ]
  },
  {
   "cell_type": "code",
   "execution_count": 26,
   "metadata": {},
   "outputs": [],
   "source": [
    "# prepare an export to a UTF-8 encoded file\n",
    "import codecs\n",
    "qc_out = '/Users/leila/Documents/OOI_GitHub_repo/repos/interacting_w_preload/interacting_w_qcTables/data_qc_global_range_values.csv'\n",
    "fileout =  codecs.open(qc_out, 'w','utf-8')"
   ]
  },
  {
   "cell_type": "code",
   "execution_count": 27,
   "metadata": {},
   "outputs": [],
   "source": [
    "# read qc-lookup table from Github\n",
    "import pandas as pd\n",
    "import csv\n",
    "qc_url = 'https://raw.githubusercontent.com/ooi-integration/qc-lookup/master/data_qc_global_range_values.csv'\n",
    "qc_file = pd.read_csv(qc_url, keep_default_na = False, quoting = csv.QUOTE_ALL)\n",
    "qc_file.keys()\n",
    "# all temperature parameter listed in qc sheet\n",
    "qc_T_data = qc_file[qc_file['_Units'].str.contains('ºC')]\n",
    "# make a unique list of parameters\n",
    "qc_T_data = qc_T_data.ParameterID_T.unique()"
   ]
  },
  {
   "cell_type": "code",
   "execution_count": 28,
   "metadata": {},
   "outputs": [],
   "source": [
    "# read the sheet created from the recent global ranges review for the temperature parameters \n",
    "review_qc = '/Users/leila/Documents/OOI_GitHub_repo/repos/interacting_w_preload/compare_to_preload/Temperature_GR_reviewed.csv'\n",
    "data_sheet = pd.read_csv(review_qc, dtype={'data_level': str}, keep_default_na = False)\n",
    "review_T_list = data_sheet.parameter_name.values.tolist()"
   ]
  },
  {
   "cell_type": "code",
   "execution_count": 29,
   "metadata": {},
   "outputs": [],
   "source": [
    "# compare qc sheet with my work\n",
    "diff_2_drop = set(qc_T_data) - set(review_T_list)\n",
    "diff_2_drop = list(diff_2_drop)"
   ]
  },
  {
   "cell_type": "code",
   "execution_count": 30,
   "metadata": {},
   "outputs": [],
   "source": [
    "# how to drop unwated parameters \n",
    "# NOTE: this no longer working because changes were pushed to github\n",
    "#for i in range (len(diff_2_drop)):\n",
    "#    qc_data = qc_data.drop(qc_data[(qc_data['_Units'] == 'ºC') & (qc_data['ParameterID_R'] == diff_2_drop[i])].index)"
   ]
  },
  {
   "cell_type": "code",
   "execution_count": 31,
   "metadata": {},
   "outputs": [
    {
     "data": {
      "text/plain": [
       "['external_temperature',\n",
       " 'pco2w_thermistor_temperature',\n",
       " 'dosta_analog_optode_temperature',\n",
       " 'sensor_temperature']"
      ]
     },
     "execution_count": 31,
     "metadata": {},
     "output_type": "execute_result"
    }
   ],
   "source": [
    "# compare my work with qc sheet\n",
    "diff_2_keep = set(review_T_list) - set(qc_T_data)\n",
    "diff_2_keep = list(diff_2_keep)\n",
    "diff_2_keep"
   ]
  },
  {
   "cell_type": "markdown",
   "metadata": {},
   "source": [
    "How to add parameters to qc look-up table"
   ]
  },
  {
   "cell_type": "code",
   "execution_count": 32,
   "metadata": {},
   "outputs": [
    {
     "name": "stdout",
     "output_type": "stream",
     "text": [
      "([930, 3458, 3463, 3793], ['pco2w_thermistor_temperature', 'external_temperature', 'sensor_temperature', 'dosta_analog_optode_temperature'], ['1', '', '', ''], Index([u'parameter_id', u'parameter_name', u'unit', u'display_name',\n",
      "       u'standard_name', u'data_product_identifier', u'parameter_description',\n",
      "       u'data_level', u'data_product_type', u'GlobalRangeMin',\n",
      "       u'GlobalRangeMax', u'Type'],\n",
      "      dtype='object'))\n"
     ]
    }
   ],
   "source": [
    "# Step 1: get PD numbers an other attributes of the parameters to add to the qc look-up table\n",
    "new_param = data_sheet.loc[data_sheet['parameter_name'].isin(diff_2_keep)]\n",
    "pdnum = list(new_param.parameter_id.values)\n",
    "pname2keep = list(new_param.parameter_name.values)\n",
    "pGlobalRangeMin = list(new_param.GlobalRangeMin.values)\n",
    "pGlobalRangeMax = list(new_param.GlobalRangeMax.values)\n",
    "pdata_level = list(new_param.data_level.values)\n",
    "punit = list(new_param.unit.values)\n",
    "\n",
    "print(pdnum,pname2keep,pdata_level,new_param.keys())"
   ]
  },
  {
   "cell_type": "code",
   "execution_count": 33,
   "metadata": {},
   "outputs": [],
   "source": [
    "# step 2 get stream names\n",
    "# Read preload sheet to map the pd number associated with the parameters above to the stream names\n",
    "import pandas as pd\n",
    "import csv\n",
    "github_url = 'https://raw.githubusercontent.com/oceanobservatories/preload-database/master/csv/ParameterDictionary.csv'\n",
    "preload_data = pd.read_csv(github_url, keep_default_na=False, quoting=csv.QUOTE_ALL)\n",
    "# drop the engineering streams, only science streams are considered\n",
    "preload_data = preload_data.drop(preload_data[(preload_data['streamtype'] == 'Engineering')].index)"
   ]
  },
  {
   "cell_type": "code",
   "execution_count": 34,
   "metadata": {},
   "outputs": [],
   "source": [
    "# create a dictionary\n",
    "d = {'stream':[],'pdnum':[],'parameter':[],'GlobalRangeMin':[],'GlobalRangeMax':[],'data_level':[],'unit':[]}\n",
    "for i in range(len(pdnum)):\n",
    "    new_list = preload_data[preload_data['parameterids'].str.contains('PD' + str(pdnum[i]))]\n",
    "    d['stream'].append(list(new_list.name.values))\n",
    "    d['pdnum'].append(pdnum[i])\n",
    "    d['parameter'].append(pname2keep[i])\n",
    "    d['GlobalRangeMin'].append(pGlobalRangeMin[i])\n",
    "    d['GlobalRangeMax'].append(pGlobalRangeMax[i])\n",
    "    d['data_level'].append(pdata_level[i])\n",
    "    d['unit'].append(punit[i])\n",
    "stream_list = list(new_list.name.values)"
   ]
  },
  {
   "cell_type": "code",
   "execution_count": 35,
   "metadata": {},
   "outputs": [
    {
     "name": "stdout",
     "output_type": "stream",
     "text": [
      "pco2w_thermistor_temperature\n",
      "930\n",
      "['pco2w_a_sami_data_record', 'pco2w_b_sami_data_record', 'pco2w_abc_instrument', 'pco2w_abc_instrument_blank', 'pco2w_abc_dcl_instrument', 'pco2w_abc_dcl_instrument_recovered', 'pco2w_abc_dcl_instrument_blank', 'pco2w_abc_dcl_instrument_blank_recovered', 'pco2w_abc_imodem_instrument', 'pco2w_abc_imodem_instrument_recovered', 'pco2w_abc_imodem_instrument_blank', 'pco2w_abc_imodem_instrument_blank_recovered']\n",
      "-2\n",
      "40\n",
      "1\n",
      "deg_C\n"
     ]
    }
   ],
   "source": [
    "#for i, (header, data) in enumerate(d.items()):\n",
    "#    print header[:]\n",
    "print d['parameter'][0]\n",
    "print d['pdnum'][0]\n",
    "print d['stream'][0]\n",
    "print d['GlobalRangeMin'][0]\n",
    "print d['GlobalRangeMax'][0]\n",
    "print d['data_level'][0]\n",
    "print d['unit'][0]"
   ]
  },
  {
   "cell_type": "code",
   "execution_count": 36,
   "metadata": {},
   "outputs": [
    {
     "name": "stdout",
     "output_type": "stream",
     "text": [
      "({'GlobalRangeMax': ['40', '40', '40', '40'], 'pdnum': [930, 3458, 3463, 3793], 'data_level': ['1', '', '', ''], 'stream': [['pco2w_a_sami_data_record', 'pco2w_b_sami_data_record', 'pco2w_abc_instrument', 'pco2w_abc_instrument_blank', 'pco2w_abc_dcl_instrument', 'pco2w_abc_dcl_instrument_recovered', 'pco2w_abc_dcl_instrument_blank', 'pco2w_abc_dcl_instrument_blank_recovered', 'pco2w_abc_imodem_instrument', 'pco2w_abc_imodem_instrument_recovered', 'pco2w_abc_imodem_instrument_blank', 'pco2w_abc_imodem_instrument_blank_recovered'], ['dosta_ln_auv_instrument', 'dosta_ln_auv_instrument_recovered'], ['parad_n_auv_instrument', 'parad_n_auv_instrument_recovered'], ['dosta_abcdjm_ctdbp_p_dcl_instrument', 'dosta_abcdjm_ctdbp_p_dcl_instrument_recovered']], 'GlobalRangeMin': ['-2', '-2', '-2', '-2'], 'parameter': ['pco2w_thermistor_temperature', 'external_temperature', 'sensor_temperature', 'dosta_analog_optode_temperature'], 'unit': ['deg_C', 'deg_c', 'deg_C', 'deg_C']}, ['dosta_abcdjm_ctdbp_p_dcl_instrument', 'dosta_abcdjm_ctdbp_p_dcl_instrument_recovered'])\n"
     ]
    }
   ],
   "source": [
    "print(d, stream_list)"
   ]
  },
  {
   "cell_type": "code",
   "execution_count": 37,
   "metadata": {},
   "outputs": [
    {
     "data": {
      "text/plain": [
       "Index([u'reference_designator', u'method', u'stream_name', u'uframe_route',\n",
       "       u'driver', u'parser', u'instrument_type'],\n",
       "      dtype='object')"
      ]
     },
     "execution_count": 37,
     "metadata": {},
     "output_type": "execute_result"
    }
   ],
   "source": [
    "# step 3 get the reference designators names\n",
    "# read the data team database to map the streams to the reference designators.\n",
    "import pandas as pd\n",
    "import csv\n",
    "db_url = 'https://raw.githubusercontent.com/seagrinch/data-team-python/master/infrastructure/data_streams.csv'\n",
    "db_data = pd.read_csv(db_url, keep_default_na=False, quoting=csv.QUOTE_ALL)\n",
    "db_data.keys()"
   ]
  },
  {
   "cell_type": "code",
   "execution_count": 38,
   "metadata": {},
   "outputs": [
    {
     "name": "stdout",
     "output_type": "stream",
     "text": [
      "L1\n",
      "L1\n",
      "L1\n",
      "L1\n",
      "L1\n",
      "L1\n",
      "L1\n",
      "L1\n",
      "L1\n",
      "L1\n",
      "L1\n",
      "L1\n",
      "L1\n",
      "L1\n",
      "L1\n",
      "L1\n",
      "L1\n",
      "L1\n",
      "L1\n",
      "L1\n",
      "L1\n",
      "L1\n",
      "L1\n",
      "L1\n",
      "L1\n",
      "L1\n",
      "L1\n",
      "L1\n",
      "L1\n",
      "L1\n",
      "L1\n",
      "L1\n",
      "L1\n",
      "L1\n",
      "L1\n",
      "L1\n",
      "L1\n",
      "L1\n",
      "L1\n",
      "L1\n",
      "L1\n",
      "L1\n",
      "L1\n",
      "L1\n",
      "L1\n",
      "L1\n",
      "L1\n",
      "L1\n",
      "L1\n",
      "L1\n",
      "L1\n",
      "L1\n",
      "L1\n",
      "L1\n",
      "L1\n",
      "L1\n",
      "L1\n",
      "L1\n",
      "L1\n",
      "L1\n",
      "L1\n",
      "L1\n",
      "L1\n",
      "L1\n",
      "L1\n",
      "L1\n",
      "L1\n",
      "L1\n",
      "L1\n",
      "L1\n",
      "L1\n",
      "L1\n",
      "L1\n",
      "L1\n",
      "L1\n",
      "L1\n",
      "L1\n",
      "L1\n",
      "L1\n",
      "L1\n",
      "L1\n",
      "L1\n",
      "L1\n",
      "L1\n",
      "L1\n",
      "L1\n",
      "L1\n",
      "L1\n",
      "L1\n",
      "L1\n",
      "L1\n",
      "L1\n",
      "L1\n",
      "L1\n",
      "L1\n",
      "L1\n",
      "L1\n",
      "L1\n",
      "L1\n",
      "L1\n",
      "L1\n",
      "L1\n",
      "L1\n",
      "L1\n",
      "L1\n",
      "L1\n",
      "L1\n",
      "L1\n",
      "L1\n",
      "L1\n",
      "L1\n",
      "L1\n",
      "L1\n",
      "L1\n",
      "L1\n",
      "L1\n",
      "L1\n",
      "L1\n",
      "L1\n",
      "L1\n",
      "L1\n",
      "L1\n",
      "L1\n",
      "L1\n",
      "L1\n",
      "L1\n",
      "L1\n",
      "L1\n",
      "L1\n",
      "L1\n",
      "L1\n",
      "L1\n",
      "not defined\n",
      "not defined\n",
      "not defined\n",
      "not defined\n",
      "not defined\n",
      "not defined\n",
      "not defined\n",
      "not defined\n",
      "not defined\n",
      "not defined\n",
      "not defined\n",
      "not defined\n",
      "not defined\n",
      "not defined\n",
      "not defined\n",
      "not defined\n",
      "not defined\n",
      "not defined\n",
      "not defined\n",
      "not defined\n",
      "not defined\n",
      "not defined\n"
     ]
    }
   ],
   "source": [
    "#extract list of ref des to add to qc sheet for new parameteres to add\n",
    "dd = {'ReferenceDesignator':[],'ParameterID_R':[],'ParameterID_T':[],'GlobalRangeMin':[],'GlobalRangeMax':[],\n",
    "      '_DataLevel':[],'_Units':[],'_Array ID':[],'_Platform ID':[],'_Instrument':[]}\n",
    "for i in range(len(d['parameter'])):\n",
    "    for j in range(len(d['stream'][i])):\n",
    "        db_data_i = db_data.loc[(db_data['stream_name'] == d['stream'][i][j])]\n",
    "        ref_list = list(db_data_i.reference_designator.values)   \n",
    "        for k in range(len(ref_list)):\n",
    "            dd['ReferenceDesignator'].append(ref_list[k])\n",
    "            #dd['stream'].append(d['stream'][i][j])\n",
    "            dd['ParameterID_R'].append(d['parameter'][i])\n",
    "            dd['ParameterID_T'].append(d['parameter'][i])\n",
    "            dd['GlobalRangeMin'].append(d['GlobalRangeMin'][i])\n",
    "            dd['GlobalRangeMax'].append(d['GlobalRangeMax'][i])            \n",
    "             \n",
    "            if d['data_level'][i] == '':\n",
    "                dd['_DataLevel'].append('')\n",
    "                print 'not defined'\n",
    "            else:\n",
    "                dd['_DataLevel'].append('L' + d['data_level'][i]) \n",
    "                print('L' + d['data_level'][i])\n",
    "            \n",
    "            dd['_Units'].append('ºC')\n",
    "            dd['_Array ID'].append(ref_list[k][0:8])\n",
    "            dd['_Platform ID'].append(ref_list[k][9:14])\n",
    "            dd['_Instrument'].append(ref_list[k][18:27])       "
   ]
  },
  {
   "cell_type": "code",
   "execution_count": 41,
   "metadata": {},
   "outputs": [],
   "source": [
    "dff= pd.DataFrame(dd, columns=['ReferenceDesignator','ParameterID_R','ParameterID_T',\n",
    "                               'GlobalRangeMin','GlobalRangeMax','_DataLevel','_Units',\n",
    "                               '_Array ID','_Platform ID','_Instrument'])\n",
    "dff = dff.drop_duplicates(dff)\n",
    "qc_file = qc_file.append(dff, ignore_index = False)"
   ]
  },
  {
   "cell_type": "code",
   "execution_count": 42,
   "metadata": {},
   "outputs": [],
   "source": [
    "qc_file.to_csv('/Users/leila/Documents/OOI_GitHub_repo/repos/interacting_w_preload/interacting_w_qcTables/data_qc_global_range_values.csv',\n",
    "                    index=False)"
   ]
  },
  {
   "cell_type": "code",
   "execution_count": null,
   "metadata": {},
   "outputs": [],
   "source": []
  }
 ],
 "metadata": {
  "kernelspec": {
   "display_name": "Python 2",
   "language": "python",
   "name": "python2"
  },
  "language_info": {
   "codemirror_mode": {
    "name": "ipython",
    "version": 2
   },
   "file_extension": ".py",
   "mimetype": "text/x-python",
   "name": "python",
   "nbconvert_exporter": "python",
   "pygments_lexer": "ipython2",
   "version": "2.7.14"
  }
 },
 "nbformat": 4,
 "nbformat_minor": 2
}
