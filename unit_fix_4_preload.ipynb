{
 "cells": [
  {
   "attachments": {},
   "cell_type": "markdown",
   "metadata": {},
   "source": [
    "The purpose of this code is to make the units in preload uniform. Since the csv files are written in UTF-8 encoding, the only way to not introduce any nontraditional characters when submitting pull request is to work with the .csv files within the python environment. \n",
    "\n",
    "Here is an example that seem to work. I have started by the temperature parameters where the units required a special character. This required two steps: (step1) the generation of a file with a list of unique old temperature units and (step2) a few lines of code to replace the old unit with the preferred unit format. "
   ]
  },
  {
   "cell_type": "code",
   "execution_count": 36,
   "metadata": {},
   "outputs": [],
   "source": [
    "#! /usr/local/bin/python\n",
    "# -*- coding: utf-8 -*-"
   ]
  },
  {
   "cell_type": "code",
   "execution_count": 37,
   "metadata": {},
   "outputs": [],
   "source": [
    "import codecs\n",
    "target_file = codecs.open('/Users/leila/Documents/OOI_GitHub_repo/repos/interacting_w_preload/ParameterDefs.csv', 'w','utf-8')"
   ]
  },
  {
   "cell_type": "code",
   "execution_count": 38,
   "metadata": {},
   "outputs": [],
   "source": [
    "import pandas as pd\n",
    "github_url = 'https://raw.githubusercontent.com/oceanobservatories/preload-database/master/csv/ParameterDefs.csv'\n",
    "preload_data = pd.read_csv(github_url)"
   ]
  },
  {
   "cell_type": "code",
   "execution_count": 39,
   "metadata": {},
   "outputs": [],
   "source": [
    "unit_preferred = '0.001 ºC'\n",
    "unit_mdegC = '/Users/leila/Documents/OOI_GitHub_repo/repos/interacting_w_preload/unit_mdegC.csv'\n",
    "mdegC = pd.read_csv(unit_mdegC)"
   ]
  },
  {
   "cell_type": "code",
   "execution_count": 43,
   "metadata": {},
   "outputs": [],
   "source": [
    "for i in range(len(mdegC['_Unit'])):\n",
    "    preload_data = preload_data.replace(mdegC['_Unit'][i], unit_preferred,regex=True)\n"
   ]
  },
  {
   "cell_type": "code",
   "execution_count": 44,
   "metadata": {},
   "outputs": [],
   "source": [
    "unit_preferred = 'ºC'\n",
    "unit_degC = '/Users/leila/Documents/OOI_GitHub_repo/repos/interacting_w_preload/unit_degC.csv'\n",
    "degC = pd.read_csv(unit_degC)"
   ]
  },
  {
   "cell_type": "code",
   "execution_count": 45,
   "metadata": {},
   "outputs": [],
   "source": [
    "for i in range(len(degC['_Unit'])):\n",
    "    preload_data = preload_data.replace(degC['_Unit'][i], unit_preferred,regex=True)"
   ]
  },
  {
   "cell_type": "code",
   "execution_count": 46,
   "metadata": {},
   "outputs": [],
   "source": [
    "preload_data.to_csv('/Users/leila/Documents/OOI_GitHub_repo/repos/interacting_w_preload/ParameterDefs.csv', index=False)"
   ]
  },
  {
   "cell_type": "code",
   "execution_count": 66,
   "metadata": {},
   "outputs": [
    {
     "name": "stdout",
     "output_type": "stream",
     "text": [
      "m⁻¹\n"
     ]
    }
   ],
   "source": [
    "#example for next unit replacement\n",
    "print(u\"m\\u207B\\u00B9\")\n"
   ]
  },
  {
   "cell_type": "code",
   "execution_count": null,
   "metadata": {},
   "outputs": [],
   "source": []
  }
 ],
 "metadata": {
  "kernelspec": {
   "display_name": "Python 2",
   "language": "python",
   "name": "python2"
  },
  "language_info": {
   "codemirror_mode": {
    "name": "ipython",
    "version": 2
   },
   "file_extension": ".py",
   "mimetype": "text/x-python",
   "name": "python",
   "nbconvert_exporter": "python",
   "pygments_lexer": "ipython2",
   "version": "2.7.14"
  }
 },
 "nbformat": 4,
 "nbformat_minor": 2
}
