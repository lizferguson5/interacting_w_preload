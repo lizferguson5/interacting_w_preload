{
 "cells": [
  {
   "cell_type": "markdown",
   "metadata": {},
   "source": [
    "The purpose of this code is to make the units in preload uniform. Since the csv files are written in UTF-8 encoding, the only way to not introduce any nontraditional characters when submitting pull request is to work with the .csv files within the python environment. \n",
    "\n",
    "Here is an example that seem to work. I have started by the temperature parameters where the units required a special character. This required two steps: \n",
    "#### step1 \n",
    "the generation of a file with a list of unique old temperature units \n",
    "#### step2 \n",
    "a few lines of code to replace the old unit with the preferred unit format. "
   ]
  },
  {
   "cell_type": "code",
   "execution_count": 157,
   "metadata": {},
   "outputs": [],
   "source": [
    "#! /usr/local/bin/python\n",
    "# -*- coding: utf-8 -*-"
   ]
  },
  {
   "cell_type": "code",
   "execution_count": 158,
   "metadata": {},
   "outputs": [],
   "source": [
    "# prepare an export to a UTF-8 encoded file\n",
    "import codecs\n",
    "target_file = codecs.open('/Users/leila/Documents/OOI_GitHub_repo/repos/interacting_w_preload/ParameterDefs.csv', 'w','utf-8')\n"
   ]
  },
  {
   "cell_type": "code",
   "execution_count": 1,
   "metadata": {},
   "outputs": [],
      "text/plain": [
       "     scenario confluence                    name      id    parametertype  \\\n",
       "3562    ZPLSC      ZPLSC  zplsc_values_channel_4  PD8079  array<quantity>   \n",
       "\n",
       "              dimensions valueencoding codeset unitofmeasure fillvalue  \\\n",
       "3562  [\"channel_4_bins\"]       float32                dB m-1  -9999999   \n",
       "\n",
       "        ...    visible parameterfunctionid parameterfunctionmap qcfunctions  \\\n",
       "3562    ...                                                                   \n",
       "\n",
       "     standardname dataproductidentifier  \\\n",
       "3562                                      \n",
       "\n",
       "                                            description longname  \\\n",
       "3562  Channel 4 Volume Backscattering Strength (Sv) ...            \n",
       "\n",
       "     dataproducttype datalevel  \n",
       "3562                            \n",
       "\n",
       "[1 rows x 22 columns]"
      ]
     },
     "execution_count": 159,
     "metadata": {},
     "output_type": "execute_result"
    }
   ],
   "source": [
    "# read prealod from Github\n",
    "import pandas as pd\n",
    "import csv\n",
    "github_url = 'https://raw.githubusercontent.com/oceanobservatories/preload-database/master/csv/ParameterDefs.csv'\n",
    "preload_data = pd.read_csv(\n",
    "                           github_url,\n",
    "                           keep_default_na=False,\n",
    "                           quoting=csv.QUOTE_ALL\n",
    "                          )\n",
    "preload_data.keys()\n",
    "preload_data[(preload_data['displayname'] == 'Channel 4 Volume Backscattering (Sv)')]"
   ]
  },
  {
   "cell_type": "markdown",
   "metadata": {},
   "source": [
    "### Temperature unit type 1 - 0.001 ºC\n",
    "#### Step 1"
   ]
  },
  {
   "cell_type": "code",
   "execution_count": 2,
   "metadata": {},
   "outputs": [
    {
     "data": {
      "text/plain": [
       "0                  mdeg_C\n",
       "1    millidegrees Celsius\n",
       "Name: _Unit, dtype: object"
      ]
     },
     "execution_count": 2,
     "metadata": {},
     "output_type": "execute_result"
    }
   ],
   "source": [
    "# make a file with a list in preload of the units to be changed \n",
    "# name a variable to contain the text to replace the units in the list\n",
    "unit_preferred = '0.001 ºC'\n",
    "unit_mdegC = 'unit_mdegC.csv'\n",
    "mdegC = pd.read_csv(unit_mdegC)\n",
    "mdegC['_Unit'][:]"
   ]
  },
  {
   "cell_type": "code",
   "execution_count": 3,
   "metadata": {},
   "outputs": [
    {
     "data": {
      "text/html": [
       "<div>\n",
       "<style scoped>\n",
       "    .dataframe tbody tr th:only-of-type {\n",
       "        vertical-align: middle;\n",
       "    }\n",
       "\n",
       "    .dataframe tbody tr th {\n",
       "        vertical-align: top;\n",
       "    }\n",
       "\n",
       "    .dataframe thead th {\n",
       "        text-align: right;\n",
       "    }\n",
       "</style>\n",
       "<table border=\"1\" class=\"dataframe\">\n",
       "  <thead>\n",
       "    <tr style=\"text-align: right;\">\n",
       "      <th></th>\n",
       "      <th>scenario</th>\n",
       "      <th>confluence</th>\n",
       "      <th>name</th>\n",
       "      <th>id</th>\n",
       "      <th>parametertype</th>\n",
       "      <th>dimensions</th>\n",
       "      <th>valueencoding</th>\n",
       "      <th>codeset</th>\n",
       "      <th>unitofmeasure</th>\n",
       "      <th>fillvalue</th>\n",
       "      <th>...</th>\n",
       "      <th>visible</th>\n",
       "      <th>parameterfunctionid</th>\n",
       "      <th>parameterfunctionmap</th>\n",
       "      <th>qcfunctions</th>\n",
       "      <th>standardname</th>\n",
       "      <th>dataproductidentifier</th>\n",
       "      <th>description</th>\n",
       "      <th>longname</th>\n",
       "      <th>dataproducttype</th>\n",
       "      <th>datalevel</th>\n",
       "    </tr>\n",
       "  </thead>\n",
       "  <tbody>\n",
       "    <tr>\n",
       "      <th>2068</th>\n",
       "      <td>HPIES</td>\n",
       "      <td>HPIES</td>\n",
       "      <td>hpies_temperature</td>\n",
       "      <td>PD2582</td>\n",
       "      <td>quantity</td>\n",
       "      <td>NaN</td>\n",
       "      <td>uint32</td>\n",
       "      <td>NaN</td>\n",
       "      <td>mdeg_C</td>\n",
       "      <td>0</td>\n",
       "      <td>...</td>\n",
       "      <td>NaN</td>\n",
       "      <td>NaN</td>\n",
       "      <td>NaN</td>\n",
       "      <td>NaN</td>\n",
       "      <td>NaN</td>\n",
       "      <td>NaN</td>\n",
       "      <td>Seawater temperature near the sensor. Units: m...</td>\n",
       "      <td>Seawater Temperature</td>\n",
       "      <td>NaN</td>\n",
       "      <td>NaN</td>\n",
       "    </tr>\n",
       "  </tbody>\n",
       "</table>\n",
       "<p>1 rows × 22 columns</p>\n",
       "</div>"
      ],
      "text/plain": [
       "     scenario confluence               name      id parametertype dimensions  \\\n",
       "2068    HPIES      HPIES  hpies_temperature  PD2582      quantity        NaN   \n",
       "\n",
       "     valueencoding codeset unitofmeasure fillvalue    ...    visible  \\\n",
       "2068        uint32     NaN        mdeg_C         0    ...        NaN   \n",
       "\n",
       "     parameterfunctionid parameterfunctionmap qcfunctions standardname  \\\n",
       "2068                 NaN                  NaN         NaN          NaN   \n",
       "\n",
       "     dataproductidentifier                                        description  \\\n",
       "2068                   NaN  Seawater temperature near the sensor. Units: m...   \n",
       "\n",
       "                  longname dataproducttype datalevel  \n",
       "2068  Seawater Temperature             NaN       NaN  \n",
       "\n",
       "[1 rows x 22 columns]"
      ]
     },
     "execution_count": 3,
     "metadata": {},
     "output_type": "execute_result"
    }
   ],
   "source": [
    "# how to find all rows where the column value is....\n",
    "preload_data[(preload_data['unitofmeasure'] == 'mdeg_C')]"
   ]
  },
  {
   "cell_type": "markdown",
   "metadata": {},
   "source": [
    "#### Step 2"
   ]
  },
  {
   "cell_type": "code",
   "execution_count": 4,
   "metadata": {},
   "outputs": [],
   "source": [
    "# replace all entries in one column that match the units in the list\n",
    "for i in range(len(mdegC['_Unit'])):\n",
    "    #preload_data = preload_data.replace(mdegC['_Unit'][i], unit_preferred, regex=True)\n",
    "    preload_data['unitofmeasure'] = preload_data['unitofmeasure'].replace(mdegC['_Unit'][i], unit_preferred)"
    "    preload_data['unitofmeasure'] = preload_data['unitofmeasure'].replace(mdegC['_Unit'][i], unit_preferred)"
   ]
  },
  {
   "cell_type": "code",
   "execution_count": 5,
   "metadata": {},
   "outputs": [
    {
     "data": {
      "text/html": [
       "<div>\n",
       "<style scoped>\n",
       "    .dataframe tbody tr th:only-of-type {\n",
       "        vertical-align: middle;\n",
       "    }\n",
       "\n",
       "    .dataframe tbody tr th {\n",
       "        vertical-align: top;\n",
       "    }\n",
       "\n",
       "    .dataframe thead th {\n",
       "        text-align: right;\n",
       "    }\n",
       "</style>\n",
       "<table border=\"1\" class=\"dataframe\">\n",
       "  <thead>\n",
       "    <tr style=\"text-align: right;\">\n",
       "      <th></th>\n",
       "      <th>scenario</th>\n",
       "      <th>confluence</th>\n",
       "      <th>name</th>\n",
       "      <th>id</th>\n",
       "      <th>parametertype</th>\n",
       "      <th>dimensions</th>\n",
       "      <th>valueencoding</th>\n",
       "      <th>codeset</th>\n",
       "      <th>unitofmeasure</th>\n",
       "      <th>fillvalue</th>\n",
       "      <th>...</th>\n",
       "      <th>visible</th>\n",
       "      <th>parameterfunctionid</th>\n",
       "      <th>parameterfunctionmap</th>\n",
       "      <th>qcfunctions</th>\n",
       "      <th>standardname</th>\n",
       "      <th>dataproductidentifier</th>\n",
       "      <th>description</th>\n",
       "      <th>longname</th>\n",
       "      <th>dataproducttype</th>\n",
       "      <th>datalevel</th>\n",
       "    </tr>\n",
       "  </thead>\n",
       "  <tbody>\n",
       "  </tbody>\n",
       "</table>\n",
       "<p>0 rows × 22 columns</p>\n",
       "</div>"
      ],
      "text/plain": [
       "Empty DataFrame\n",
       "Columns: [scenario, confluence, name, id, parametertype, dimensions, valueencoding, codeset, unitofmeasure, fillvalue, displayname, precision, visible, parameterfunctionid, parameterfunctionmap, qcfunctions, standardname, dataproductidentifier, description, longname, dataproducttype, datalevel]\n",
       "Index: []\n",
       "\n",
       "[0 rows x 22 columns]"
      ]
     },
     "execution_count": 5,
     "metadata": {},
     "output_type": "execute_result"
    }
   ],
   "source": [
    "# check result\n",
    "preload_data[(preload_data['unitofmeasure'] == 'mdeg_C')]"
   ]
  },
  {
   "cell_type": "markdown",
   "metadata": {},
   "source": [
    "### Temperature unit type 2 - ºC\n",
    "#### Step 1"
   ]
  },
  {
   "cell_type": "code",
   "execution_count": 162,
   "metadata": {},
   "outputs": [
    {
     "data": {
      "text/plain": [
       "0              deg_C\n",
       "1               degC\n",
       "2              deg_c\n",
       "3    degrees Celsius\n",
       "Name: _Unit, dtype: object"
      ]
     },
     "execution_count": 162,
     "metadata": {},
     "output_type": "execute_result"
    }
   ],
   "source": [
    "unit_preferred = 'ºC'\n",
    "unit_degC = 'unit_degC.csv'\n",
    "degC = pd.read_csv(unit_degC)\n",
    "degC['_Unit'][:]"
   ]
  },
  {
   "cell_type": "markdown",
   "metadata": {},
   "source": [
    "#### Step 2"
   ]
  },
  {
   "cell_type": "code",
   "execution_count": 163,
   "metadata": {},
   "outputs": [],
   "source": [
    "for i in range(len(degC['_Unit'])):\n",
    "    #preload_data = preload_data.replace(degC['_Unit'][i], unit_preferred,regex=True)\n",
    "    preload_data['unitofmeasure'] = preload_data['unitofmeasure'].replace(degC['_Unit'][i], unit_preferred)"
   ]
  },
  {
   "cell_type": "markdown",
   "metadata": {},
   "source": [
    "_save the new ParameterDefs.csv file_\n",
    "> The file is ready to be submitted as a pull request to preload"
   ]
  },
  {
   "cell_type": "code",
   "execution_count": 164,
   "metadata": {},
   "outputs": [
    {
     "data": {
      "text/plain": [
       "Index([u'scenario', u'confluence', u'name', u'id', u'parametertype',\n",
       "       u'dimensions', u'valueencoding', u'codeset', u'unitofmeasure',\n",
       "       u'fillvalue', u'displayname', u'precision', u'visible',\n",
       "       u'parameterfunctionid', u'parameterfunctionmap', u'qcfunctions',\n",
       "       u'standardname', u'dataproductidentifier', u'description', u'longname',\n",
       "       u'dataproducttype', u'datalevel'],\n",
       "      dtype='object')"
      ]
     },
     "execution_count": 164,
     "metadata": {},
     "output_type": "execute_result"
    }
   ],
   "source": [
    "# check result\n",
    "preload_data[(preload_data['unitofmeasure'] == 'ddeg_C')]\n",
    "preload_data.keys()"
   ]
  },
  {
   "cell_type": "code",
   "execution_count": 165,
   "metadata": {},
   "outputs": [
    {
     "name": "stdout",
     "output_type": "stream",
     "text": [
      "m⁻¹\n"
     ]
    }
   ],
   "source": [
    "#example for next unit replacement\n",
    "print(u\"m\\u207B\\u00B9\")\n"
   ]
  },
  {
   "cell_type": "code",
   "execution_count": 166,
   "metadata": {},
   "outputs": [],
   "source": [
    "# write to a csv file the output\n",
    "import csv\n",
    "#quoting=csv.QUOTE_NONNUMERIC, \n",
    "preload_data.to_csv('/Users/leila/Documents/OOI_GitHub_repo/repos/interacting_w_preload/ParameterDefs.csv',\n",
    "                    index=False)"
   ]
  },
  {
   "cell_type": "code",
   "execution_count": null,
   "metadata": {},
   "outputs": [],
   "source": []
  }
 ],
 "metadata": {
  "kernelspec": {
   "display_name": "ooi",
   "language": "python",
   "name": "ooi"
  },
  "language_info": {
   "codemirror_mode": {
    "name": "ipython",
    "version": 3
   },
   "file_extension": ".py",
   "mimetype": "text/x-python",
   "name": "python",
   "nbconvert_exporter": "python",
   "pygments_lexer": "ipython3",
   "version": "3.6.5"
  }
 },
 "nbformat": 4,
 "nbformat_minor": 2
}
