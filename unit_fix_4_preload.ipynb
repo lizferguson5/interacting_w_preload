'{
 "cells": [
  {
   "cell_type": "markdown",
   "metadata": {},
   "source": [
    "The purpose of this code is to make the units in preload uniform. Since the csv files are written in UTF-8 encoding, the only way to not introduce any nontraditional characters when submitting pull request is to work with the .csv files within the python environment. \n",
    "\n",
    "Here is an example that seem to work. I have started by the temperature parameters where the units required a special character. This required two steps: \n",
    "#### step1 \n",
    "the generation of a file with a list of unique old temperature units \n",
    "#### step2 \n",
    "a few lines of code to replace the old unit with the preferred unit format. "
   ]
  },
  {
   "cell_type": "code",
   "execution_count": 157,
   "metadata": {},
   "outputs": [],
   "source": [
    "#! /usr/local/bin/python\n",
    "# -*- coding: utf-8 -*-"
   ]
  },
  {
   "cell_type": "code",
   "execution_count": 158,
   "metadata": {},
   "outputs": [],
   "source": [
    "# prepare an export to a UTF-8 encoded file\n",
    "import codecs\n",
    "target_file = codecs.open('/Users/leila/Documents/OOI_GitHub_repo/repos/interacting_w_preload/ParameterDefs.csv', 'w','utf-8')\n"
   ]
  },
  {
   "cell_type": "code",
   "execution_count": 1,
   "metadata": {},
   "outputs": [],
   "source": [
    "# read prealod from Github\n",
    "import pandas as pd\n",
    "import csv\n",
    "github_url = 'https://raw.githubusercontent.com/oceanobservatories/preload-database/master/csv/ParameterDefs.csv'\n",
    "preload_data = pd.read_csv(\n",
    "                           github_url,\n",
    "                           keep_default_na=False,\n",
    "                           quoting=csv.QUOTE_ALL\n",
    "                          )\n",
    "preload_data.keys()\n",
    "preload_data[(preload_data['displayname'] == 'Channel 4 Volume Backscattering (Sv)')]"
   ]
  },
  {
   "cell_type": "markdown",
   "metadata": {},
   "source": [
    "### Temperature unit type 1 - 0.001 ºC\n",
    "#### Step 1"
   ]
  },
  {
   "cell_type": "code",
   "execution_count": 2,
   "metadata": {},
   "outputs": []
   "source": [
    "# make a file with a list in preload of the units to be changed \n",
    "# name a variable to contain the text to replace the units in the list\n",
    "unit_preferred = '0.001 ºC'\n",
    "unit_mdegC = 'unit_mdegC.csv'\n",
    "mdegC = pd.read_csv(unit_mdegC)\n",
    "mdegC['_Unit'][:]"
   ]
  },
  {
   "cell_type": "code",
   "execution_count": 3,
   "metadata": {},
   "outputs": []
   "source": [
    "# how to find all rows where the column value is....\n",
    "preload_data[(preload_data['unitofmeasure'] == 'mdeg_C')]"
   ]
  },
  {
   "cell_type": "markdown",
   "metadata": {},
   "source": [
    "#### Step 2"
   ]
  },
  {
   "cell_type": "code",
   "execution_count": 4,
   "metadata": {},
   "outputs": [],
   "source": [
    "# replace all entries in one column that match the units in the list\n",
    "for i in range(len(mdegC['_Unit'])):\n",
    "    #preload_data = preload_data.replace(mdegC['_Unit'][i], unit_preferred, regex=True)\n",
    "    preload_data['unitofmeasure'] = preload_data['unitofmeasure'].replace(mdegC['_Unit'][i], unit_preferred)"
    "    preload_data['unitofmeasure'] = preload_data['unitofmeasure'].replace(mdegC['_Unit'][i], unit_preferred)"
   ]
  },
  {
   "cell_type": "code",
   "execution_count": 5,
   "metadata": {},
   "outputs": []
   "source": [
    "# check result\n",
    "preload_data[(preload_data['unitofmeasure'] == 'mdeg_C')]"
   ]
  },
  {
   "cell_type": "markdown",
   "metadata": {},
   "source": [
    "### Temperature unit type 2 - ºC\n",
    "#### Step 1"
   ]
  },
  {
   "cell_type": "code",
   "execution_count": 162,
   "metadata": {},
   "outputs": []
   "source": [
    "unit_preferred = 'ºC'\n",
    "unit_degC = 'unit_degC.csv'\n",
    "degC = pd.read_csv(unit_degC)\n",
    "degC['_Unit'][:]"
   ]
  },
  {
   "cell_type": "markdown",
   "metadata": {},
   "source": [
    "#### Step 2"
   ]
  },
  {
   "cell_type": "code",
   "execution_count": 163,
   "metadata": {},
   "outputs": [],
   "source": [
    "for i in range(len(degC['_Unit'])):\n",
    "    #preload_data = preload_data.replace(degC['_Unit'][i], unit_preferred,regex=True)\n",
    "    preload_data['unitofmeasure'] = preload_data['unitofmeasure'].replace(degC['_Unit'][i], unit_preferred)"
   ]
  },
  {
   "cell_type": "markdown",
   "metadata": {},
   "source": [
    "_save the new ParameterDefs.csv file_\n",
    "> The file is ready to be submitted as a pull request to preload"
   ]
  },
  {
   "cell_type": "code",
   "execution_count": 164,
   "metadata": {},
   "outputs": []
   "source": [
    "# check result\n",
    "preload_data[(preload_data['unitofmeasure'] == 'ddeg_C')]\n",
    "preload_data.keys()"
   ]
  },
  {
   "cell_type": "code",
   "execution_count": 165,
   "metadata": {},
   "outputs": [
    {
     "name": "stdout",
     "output_type": "stream",
     "text": [
      "m⁻¹\n"
     ]
    }
   ],
   "source": [
    "#example for next unit replacement\n",
    "print(u\"m\\u207B\\u00B9\")\n"
   ]
  },
  {
   "cell_type": "code",
   "execution_count": 166,
   "metadata": {},
   "outputs": [],
   "source": [
    "# write to a csv file the output\n",
    "import csv\n",
    "#quoting=csv.QUOTE_NONNUMERIC, \n",
    "preload_data.to_csv('/Users/leila/Documents/OOI_GitHub_repo/repos/interacting_w_preload/ParameterDefs.csv',\n",
    "                    index=False)"
   ]
  },
  {
   "cell_type": "code",
   "execution_count": null,
   "metadata": {},
   "outputs": [],
   "source": []
  }
 ],
 "metadata": {
  "kernelspec": {
   "display_name": "ooi",
   "language": "python",
   "name": "ooi"
  },
  "language_info": {
   "codemirror_mode": {
    "name": "ipython",
    "version": 3
   },
   "file_extension": ".py",
   "mimetype": "text/x-python",
   "name": "python",
   "nbconvert_exporter": "python",
   "pygments_lexer": "ipython3",
   "version": "3.6.5"
  }
 },
 "nbformat": 4,
 "nbformat_minor": 2
}'