{
 "cells": [
  {
   "attachments": {},
   "cell_type": "markdown",
   "metadata": {},
   "source": [
    "The purpose of this code is to make the units in preload uniform. Since the csv files are written in UTF-8 encoding, the only way to not introduce any nontraditional characters when submitting pull request is to work with the .csv files within the python environment. \n",
    "\n",
    "Here is an example that seem to work. I have started by the temperature parameters where the units required a special character. This required two steps: \n",
    "#### step1 \n",
    "the generation of a file with a list of unique old temperature units \n",
    "#### step2 \n",
    "a few lines of code to replace the old unit with the preferred unit format. "
   ]
  },
  {
   "cell_type": "code",
   "execution_count": 167,
   "metadata": {},
   "outputs": [],
   "source": [
    "#! /usr/local/bin/python\n",
    "# -*- coding: utf-8 -*-"
   ]
  },
  {
   "cell_type": "code",
   "execution_count": 168,
   "metadata": {},
   "outputs": [],
   "source": [
    "# prepare an export to a UTF-8 encoded file\n",
    "import codecs\n",
    "target_file = codecs.open('/Users/leila/Documents/OOI_GitHub_repo/repos/interacting_w_preload/ParameterDefs.csv', 'w','utf-8')"
   ]
  },
  {
   "cell_type": "code",
   "execution_count": 169,
   "metadata": {},
   "outputs": [],
   "source": [
    "# read prealod from Github\n",
    "import pandas as pd\n",
    "github_url = 'https://raw.githubusercontent.com/oceanobservatories/preload-database/master/csv/ParameterDefs.csv'\n",
    "preload_data = pd.read_csv(github_url)"
   ]
  },
  {
   "cell_type": "markdown",
   "metadata": {},
   "source": [
    "### Temperature unit type 1 - 0.001 ºC\n",
    "#### Step 1"
   ]
  },
  {
   "cell_type": "code",
   "execution_count": 170,
   "metadata": {},
   "outputs": [
    {
     "data": {
      "text/plain": [
       "0                  mdeg_C\n",
       "1    millidegrees Celsius\n",
       "Name: _Unit, dtype: object"
      ]
     },
     "execution_count": 170,
     "metadata": {},
     "output_type": "execute_result"
    }
   ],
   "source": [
    "# make a file with a list in preload of the units to be changed \n",
    "# name a variable to contain the text to replace the units in the list\n",
    "unit_preferred = '0.001 ºC'\n",
    "unit_mdegC = '/Users/leila/Documents/OOI_GitHub_repo/repos/interacting_w_preload/unit_mdegC.csv'\n",
    "mdegC = pd.read_csv(unit_mdegC)\n",
    "mdegC['_Unit'][:]"
   ]
  },
  {
   "cell_type": "markdown",
   "metadata": {},
   "source": [
    "#### Step 2"
   ]
  },
  {
   "cell_type": "code",
   "execution_count": 171,
   "metadata": {},
   "outputs": [],
   "source": [
    "# replace all entries in the file that match the units in the list\n",
    "for i in range(len(mdegC['_Unit'])):\n",
    "    preload_data = preload_data.replace(mdegC['_Unit'][i], unit_preferred, regex=True)"
   ]
  },
  {
   "cell_type": "markdown",
   "metadata": {},
   "source": [
    "### Temperature unit type 2 - ºC\n",
    "#### Step 1"
   ]
  },
  {
   "cell_type": "code",
   "execution_count": 172,
   "metadata": {},
   "outputs": [
    {
     "data": {
      "text/plain": [
       "0              deg_C\n",
       "1               degC\n",
       "2              deg_c\n",
       "3    degrees Celsius\n",
       "Name: _Unit, dtype: object"
      ]
     },
     "execution_count": 172,
     "metadata": {},
     "output_type": "execute_result"
    }
   ],
   "source": [
    "unit_preferred = 'ºC'\n",
    "unit_degC = '/Users/leila/Documents/OOI_GitHub_repo/repos/interacting_w_preload/unit_degC.csv'\n",
    "degC = pd.read_csv(unit_degC)\n",
    "degC['_Unit'][:]"
   ]
  },
  {
   "cell_type": "markdown",
   "metadata": {},
   "source": [
    "#### Step 2"
   ]
  },
  {
   "cell_type": "code",
   "execution_count": 173,
   "metadata": {},
   "outputs": [],
   "source": [
    "for i in range(len(degC['_Unit'])):\n",
    "    preload_data = preload_data.replace(degC['_Unit'][i], unit_preferred,regex=True)"
   ]
  },
  {
   "cell_type": "markdown",
   "metadata": {},
   "source": [
    "_save the new ParameterDefs.csv file_\n",
    "> The file is ready to be submitted as a pull request to preload"
   ]
  },
  {
   "cell_type": "code",
   "execution_count": 174,
   "metadata": {},
   "outputs": [],
   "source": [
    "# write to a csv file the output\n",
    "preload_data.to_csv('/Users/leila/Documents/OOI_GitHub_repo/repos/interacting_w_preload/ParameterDefs.csv', index=False)"
   ]
  },
  {
   "cell_type": "code",
   "execution_count": 175,
   "metadata": {},
   "outputs": [
    {
     "name": "stdout",
     "output_type": "stream",
     "text": [
      "m⁻¹\n"
     ]
    }
   ],
   "source": [
    "#example for next unit replacement\n",
    "print(u\"m\\u207B\\u00B9\")\n"
   ]
  },
  {
   "cell_type": "code",
   "execution_count": null,
   "metadata": {},
   "outputs": [],
   "source": []
  }
 ],
 "metadata": {
  "kernelspec": {
   "display_name": "Python 2",
   "language": "python",
   "name": "python2"
  },
  "language_info": {
   "codemirror_mode": {
    "name": "ipython",
    "version": 2
   },
   "file_extension": ".py",
   "mimetype": "text/x-python",
   "name": "python",
   "nbconvert_exporter": "python",
   "pygments_lexer": "ipython2",
   "version": "2.7.14"
  }
 },
 "nbformat": 4,
 "nbformat_minor": 2
}
